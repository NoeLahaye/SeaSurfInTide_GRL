{
 "cells": [
  {
   "cell_type": "markdown",
   "metadata": {},
   "source": [
    "# MixedLayer_ModeSolve_paper\n",
    "\n",
    "Solve modal structure including a mixed layer, for comparison with d'Asaro 1978 <br/>\n",
    "* take stratif in \"lowpass\" file\n",
    "* use modified stratif for theory only\n",
    "* figure dedicated to paper\n",
    "\n",
    "Adapted from MixedLayer_ModeSolve"
   ]
  },
  {
   "cell_type": "code",
   "execution_count": 1,
   "metadata": {},
   "outputs": [
    {
     "name": "stderr",
     "output_type": "stream",
     "text": [
      "/home/lahaye/Coding/virtual_envs/py3-jhub/lib/python3.5/site-packages/matplotlib/cbook/deprecation.py:106: MatplotlibDeprecationWarning: The mpl_toolkits.axes_grid module was deprecated in version 2.1. Use mpl_toolkits.axes_grid1 and mpl_toolkits.axisartist provies the same functionality instead.\n",
      "  warnings.warn(message, mplDeprecation, stacklevel=1)\n"
     ]
    }
   ],
   "source": [
    "%matplotlib inline\n",
    "from matplotlib import pyplot as plt\n",
    "plt.rcParams['font.family'] = \"serif\"\n",
    "plt.rcParams['font.size'] = 12\n",
    "plt.rcParams['lines.linewidth']= 2.5\n",
    "from mpl_toolkits.axes_grid.inset_locator import inset_axes\n",
    "import matplotlib.gridspec as gridspec\n",
    "\n",
    "import numpy as np\n",
    "#import scipy.integrate as itg\n",
    "import scipy.interpolate as itp\n",
    "import scipy.optimize as opt\n",
    "from netCDF4 import Dataset\n",
    "import sys\n",
    "\n",
    "#from cheb import cheb\n",
    "if '/home/lahaye/Coding/Python_ROMS_Modules/lahaye/' not in sys.path:\n",
    "    sys.path.append('/home/lahaye/Coding/Python_ROMS_Modules/lahaye/')\n",
    "from comp_zlevs import zlev_w, zlev_rho\n",
    "from ML_ModeSolve import *\n",
    "if \"/home/lahaye/Coding/python_science\" not in sys.path:\n",
    "    sys.path.append(\"/home/lahaye/Coding/python_science\")\n",
    "from SL_chebsolve import SL_chebsolve\n",
    "if \"/home/lahaye/Coding/Py3_ROMS_Modules\" not in sys.path:\n",
    "    sys.path.append(\"/home/lahaye/Coding/Py3_ROMS_Modules\")\n",
    "from R_tools import vinterp\n",
    "\n",
    "KRYPTON = \"/data0/project/vortex/lahaye/\"\n",
    "RUCHBA = \"/net/ruchba/local/tmp/2/lahaye/\""
   ]
  },
  {
   "cell_type": "code",
   "execution_count": 2,
   "metadata": {},
   "outputs": [],
   "source": [
    "# WARNING these will overwritten what is in ML_modesolve.py\n",
    "# should be use to update this module, but need to ensure \n",
    "# compatibility e.g. with plot_kw-spectra-ratio_WKBamp.ipynb\n",
    "\n",
    "def symsqrt(x):\n",
    "    return np.sign(x)*np.sqrt(abs(x))\n",
    "\n",
    "def get_strat_from_path(path_strat, zin, zml, dml=20, zpyc=-200, \n",
    "                        Hbt=3000, Nsqml=0, coef_realstrat=1., coord=None):\n",
    "    #\"\"\" work only for \"mean file\" \"\"\"\n",
    "    nc = Dataset(path_strat, \"r\")\n",
    "    ncvar = nc.variables\n",
    "    if coord is None:\n",
    "        zinterp = ncvar['z'][:]\n",
    "        bvfm = ncvar['bvf'][:]\n",
    "    else:\n",
    "        jy, ix = coord\n",
    "        topo = ncvar['h'][jy,ix]\n",
    "        hc, Cs_r, Cs_w = nc.hc, nc.Cs_r, nc.Cs_w\n",
    "        bvfm = ncvar['bvf_avg'][:,jy,ix]\n",
    "        bvfm = np.r_[ bvfm[0], bvfm, bvfm[-1] ]\n",
    "        zinterp = zlev_w(topo, np.zeros(1), hc, Cs_w).squeeze()\n",
    "    nc.close()\n",
    "    return get_strat(bvfm, zinterp, zin, zml, dml=20, zpyc=-200, Hbt=3000, Nsqml=0, coef_realstrat=1.)\n",
    "\n",
    "def get_strat(bvfm, zinterp, zin, zml, dml=20, zpyc=-200, Hbt=3000, Nsqml=0, coef_realstrat=1., sm=0.):\n",
    "\n",
    "    izml = abs(zinterp + 2*dml).argmin() # ad hoc, twice base of ML\n",
    "    izpyc = izml #abs(zinterp - zpyc).argmin() # +:- permanent pycnocline\n",
    "    izbt = abs(zinterp + Hbt).argmin()   # domain considered\n",
    "    Nsqml *= np.ones(len(zml))\n",
    "    print(izpyc, izbt)\n",
    "    print(zinterp[izpyc], zinterp[izbt], zinterp[izml])\n",
    "    bvf_int = np.trapz(bvfm[izbt:izpyc], zinterp[izbt:izpyc])/(zinterp[izpyc-1]-zinterp[izbt])\n",
    "\n",
    "    Nsqin = itp.UnivariateSpline(zinterp, bvfm, s=sm)(zin)\n",
    "    Nsqin = (1-coef_realstrat)*bvf_int + coef_realstrat*Nsqin\n",
    "    gr_eff = np.trapz(bvfm[izml:], zinterp[izml:])\n",
    "    return Nsqin, Nsqml, bvf_int, gr_eff\n",
    "\n",
    "def get_strat_lf(path_strat, zin, zml, dml=20, zpyc=-200, Hbt=3000, Nsqml=0):\n",
    "    nc = Dataset(path_strat, \"r\")\n",
    "    hc, Cs_r, Cs_w = nc.hc, nc.Cs_r, nc.Cs_w\n",
    "    bvfm = nc.variables ['bvf_avg'][:]\n",
    "    bvfm = np.r_[bvfm[:1,...], 0.5*(bvfm[1:,...]+bvfm[:-1,...]), bvfm[-1:,...]]\n",
    "    topo = nc.variables['h'][:]\n",
    "    nc.close()\n",
    "    zr = zlev_rho(topo, np.zeros(topo.shape), hc, Cs_r)\n",
    "    zw = zlev_w(topo, np.zeros(topo.shape), hc, Cs_w).squeeze()\n",
    "    zz = np.r_[zin, zml]\n",
    "    zinterp = np.unique(zz)\n",
    "    bvfm = np.nanmean(vinterp(np.moveaxis(bvfm, 0, 2), zinterp, zr, zw, interp_sfc=0) \\\n",
    "                        , axis=(0,1))\n",
    "    Nsqin, Nsqml, bvf_int, gr_eff = get_strat(bvfm, zinterp, zin, zml, dml, zpyc, Hbt \\\n",
    "                                  , Nsqml, 1., sm=0) \n",
    "    return Nsqin, Nsqml, bvf_int, gr_eff, bvfm, zinterp"
   ]
  },
  {
   "cell_type": "code",
   "execution_count": 14,
   "metadata": {},
   "outputs": [],
   "source": [
    "# Set up parameters\n",
    "\n",
    "zpyc = -200   # upper level to take min for interior bvf\n",
    "Nml = 0     # bvf in the mixed layer (constant)\n",
    "Hbt = 3400\n",
    "season = \"winter\"\n",
    "zref = -500\n",
    "dmls = {\"summer\":25, \"winter\":150} #{\"summer\":20, \"winter\":100}\n",
    "gred = 0\n",
    "\n",
    "dosavefig = True\n",
    "dirpic = \"pictures/paper_figs/\"\n",
    "cols = {\"das\":\"tab:red\", \"wkb\":\"tab:olive\", \"num\":\"tab:blue\", \n",
    "        \"raw\":\"black\"}\n",
    "labs = {\"das\":r\"piecwise-const. $N$\", \"wkb\":\"WKBJ\", \"num\":\"EVP with ML\", \n",
    "        \"raw\":r\"EVP, raw $N$\"}\n",
    "axlabs = {\"summer\":(\"a\",\"b\",\"c\"), \"winter\":(\"d\",\"e\",\"f\")}\n",
    "\n",
    "Nz = 120\n",
    "nmod = 40 # number of modes to plot\n",
    "\n",
    "path_strat = RUCHBA+\"{0}_tseries_lf/{0}_subsamp_strat_{1}.nc\".format(\"luckyt\",season[:3])\n",
    "\n",
    "nc = Dataset(path_strat, \"r\")\n",
    "hc, Cs_r, Cs_w = nc.hc, nc.Cs_r, nc.Cs_w\n",
    "nc.close()\n",
    "zb = zlev_w(Hbt, 0, hc, Cs_w)"
   ]
  },
  {
   "cell_type": "code",
   "execution_count": 15,
   "metadata": {},
   "outputs": [
    {
     "name": "stdout",
     "output_type": "stream",
     "text": [
      "no Mixed Layer\n",
      "119 0\n",
      "0.0 -3400.0 0.0\n"
     ]
    },
    {
     "name": "stderr",
     "output_type": "stream",
     "text": [
      "/home/lahaye/Coding/virtual_envs/py3-jhub/lib/python3.5/site-packages/ipykernel_launcher.py:14: RuntimeWarning: invalid value encountered in sqrt\n",
      "  \n"
     ]
    }
   ],
   "source": [
    "# numerical solution with unmodified stratif\n",
    "dml = 0\n",
    "zin, Din, zml, Dml, zz, Dz = ML_solver_grid(Nz, Hbt, dml)\n",
    "\n",
    "Nsqin, Nsqml, bvf_int, gr_eff, bvfm, zinterp = get_strat_lf(path_strat, zin, zml, dml \\\n",
    "                                                            , zpyc, Hbt, Nml**2)\n",
    "\n",
    "(wa, da), lam, _ = SL_chebsolve(Nsqin, zin, Nz=Nz)\n",
    "da /= -lam[None,:].real\n",
    "# normalize\n",
    "wa /= da[:1,:]\n",
    "da /= da[:1,:]\n",
    "# compute WKBJ amplitude\n",
    "Npyc = np.where(zin <= zpyc)[0][-1] \n",
    "amp = np.sqrt(wa[:Npyc,:]**2*np.sqrt(Nsqin)[:Npyc,None] \\\n",
    "              + (da[:Npyc,:]**2/np.sqrt(Nsqin)[:Npyc,None])).mean(axis=0)\n",
    "izref = abs(zref-zin).argmin()\n",
    "za = zz\n",
    "rat_raw = ((da[-1,:nmod])**2) / np.sqrt(Nsqin[izref]/Nsqin[0])\n",
    "# stratif\n",
    "Nraw = symsqrt(itp.pchip(zinterp, bvfm)(zb))"
   ]
  },
  {
   "cell_type": "code",
   "execution_count": 16,
   "metadata": {},
   "outputs": [
    {
     "name": "stdout",
     "output_type": "stream",
     "text": [
      "92 0\n",
      "-305.062581217 -3400.0 -305.062581217\n",
      "reduced gravity: 0\n"
     ]
    }
   ],
   "source": [
    "# numerical solution with modified stratif\n",
    "dml = dmls[season]\n",
    "zin, Din, zml, Dml, zz, Dz = ML_solver_grid(Nz, Hbt, dml)\n",
    "\n",
    "Nsqin, Nsqml, bvf_int, gr_eff, bvfm, zinterp = get_strat_lf(path_strat, zin, zml, dml, zpyc, Hbt, Nml**2)\n",
    "\n",
    "# solve eigenproblem\n",
    "lom, wo, do = ML_solver(zin, Din, Nsqin, zml, Dml, Nsqml, gred)\n",
    "  \n",
    "# normalize\n",
    "wo /= do[:1,:]\n",
    "do /= do[:1,:]\n",
    "\n",
    "izref = abs(zref-zin).argmin()\n",
    "rat_num = (do[-1,:nmod])**2 / np.sqrt(Nsqin[izref]/Nsqin[0])\n",
    "\n",
    "if season == \"winter\": gr_eff = 0\n",
    "\n",
    "print(\"reduced gravity:\", gr_eff)"
   ]
  },
  {
   "cell_type": "code",
   "execution_count": 17,
   "metadata": {},
   "outputs": [],
   "source": [
    "# find WKBJ wavenumbers solving transcendental equation\n",
    "\n",
    "ff = lambda k:tr_ek(k, sym_sqrt(Nsqml.mean()), zin, Nsqin, gred).squeeze()\n",
    "\n",
    "kzos = lom[:nmod].real\n",
    "for ii,ll in enumerate(kzos):\n",
    "    kzos[ii] = opt.fsolve(ff, ll)[0]\n",
    "\n",
    "wkb_ratref = ((dwdz_ml(zml, sym_sqrt(Nsqml.mean()), kzos) \\\n",
    "        * w_in(zin, Nsqin, kzos)[-1,:])**2).mean(axis=0) / np.sqrt(Nsqin[izref]/Nsqin[0])\n"
   ]
  },
  {
   "cell_type": "code",
   "execution_count": 18,
   "metadata": {},
   "outputs": [
    {
     "name": "stderr",
     "output_type": "stream",
     "text": [
      "/home/lahaye/Coding/virtual_envs/py3-jhub/lib/python3.5/site-packages/numpy/core/numeric.py:531: ComplexWarning: Casting complex values to real discards the imaginary part\n",
      "  return array(a, dtype, copy=False, order=order)\n",
      "/home/lahaye/Coding/virtual_envs/py3-jhub/lib/python3.5/site-packages/matplotlib/figure.py:1999: UserWarning: This figure includes Axes that are not compatible with tight_layout, so results might be incorrect.\n",
      "  warnings.warn(\"This figure includes Axes that are not compatible \"\n"
     ]
    },
    {
     "data": {
      "image/png": "[encoded data removed]",
      "text/plain": [
       "<matplotlib.figure.Figure at 0x7f278e53af60>"
      ]
     },
     "metadata": {},
     "output_type": "display_data"
    }
   ],
   "source": [
    "# plot results (stratif, modal struct and ratio)imod = 2 #indice of mode to show structure\n",
    "imod = 2\n",
    "\n",
    "fig = plt.figure(figsize=(12,4))\n",
    "\n",
    "gs = gridspec.GridSpec(1, 3, width_ratios=[2, 2, 3], wspace=.2)\n",
    "\n",
    "### Stratification\n",
    "ax1 = plt.subplot(gs[0])\n",
    "inax = inset_axes(ax1, width=\"50%\", height=\"75%\", loc=4, borderpad=1.5)\n",
    "for ax in [inax,ax1]:\n",
    "    ax.plot(Nraw, zb, '.-', color=cols[\"raw\"], lw=1.5)\n",
    "    ax.plot(sym_sqrt(Nsqin), zin, '-', color=cols[\"num\"])\n",
    "    ax.plot(sym_sqrt(Nsqml), zml, '-', color=cols[\"num\"])\n",
    "ax1.plot(np.ones(len(zin))*np.sqrt(bvf_int), zin, \"--\", color=cols[\"das\"])\n",
    "ax1.set_xlim([-1e-3, 2e-2])\n",
    "ax1.set_ylim([-Hbt, 0])\n",
    "inax.grid(True)\n",
    "inax.set_ylim([-300,10])\n",
    "inax.set_xlim([-1e-3, inax.get_xlim()[-1]])\n",
    "\n",
    "inax.tick_params(labelsize=10)\n",
    "\n",
    "# Mode structure\n",
    "\n",
    "ax2 = plt.subplot(gs[1])\n",
    "\n",
    "if season == \"summer\":\n",
    "    inax = inset_axes(ax2, width=\"30%\", height=\"60%\", loc=3, borderpad=1.5)\n",
    "    inax.grid(True)\n",
    "    inax.set_ylim([-300,10])\n",
    "    inax.yaxis.tick_right()\n",
    "    #inax.set_xlim([-1e-3, inax.get_xlim()[-1]])\n",
    "    inax.tick_params(labelsize=10)\n",
    "    axs = [inax, ax2]\n",
    "else:\n",
    "    axs = [ax2]\n",
    "for ax in axs:\n",
    "    ax.plot(dwdz_in(zin, Nsqin, kzos[imod]), zin, '--', color=cols[\"wkb\"])\n",
    "    ax.plot(dwdz_ml(zml, sym_sqrt(Nsqml.mean()), kzos[imod])\\\n",
    "         *w_in(zin, Nsqin, kzos[imod])[-1], zml, '--', color=cols[\"wkb\"])\n",
    "    ax.plot(do[:,imod], zz, '-', color=cols[\"num\"]) # do = -w'/k\n",
    "    ax.plot(da[:,imod], za, '-', color=cols[\"raw\"]) # do = -w'/k\n",
    "\n",
    "    ax.plot(amp[imod]*Nsqin[:Npyc]**(1./4), zin[:Npyc], \"--\", color=\"grey\")\n",
    "    ax.plot(-amp[imod]*Nsqin[:Npyc]**(1./4), zin[:Npyc], \"--\", color=\"grey\")\n",
    "ax1.set_yticklabels([])\n",
    "ax2.set_ylim([-Hbt, 0])\n",
    "ax2.ticklabel_format(style='sci',scilimits=(-2,2))\n",
    "ax1.yaxis.tick_right()\n",
    "\n",
    "# amplitude ratio\n",
    "ax3 = plt.subplot(gs[2])\n",
    "kks = np.linspace(.9*lom[0],lom[nmod],150)\n",
    "ax3.loglog(kks, fasa(kks, dml, bvf_int, gr_eff), \"--\" \\\n",
    "           , color=cols[\"das\"], label=labs[\"das\"])\n",
    "ax3.loglog(kzos[:nmod], wkb_ratref[:nmod], '--' \\\n",
    "           , color=cols[\"wkb\"], label=labs[\"wkb\"])\n",
    "ax3.loglog(lam[:nmod], rat_raw \\\n",
    "          , \".-\", color=cols[\"raw\"], label=labs[\"raw\"])\n",
    "ax3.loglog(lom[:nmod], rat_num \\\n",
    "           , '-', color=cols[\"num\"], label=labs[\"num\"])\n",
    "#ax4.loglog(lom[:nmod], ((do[-Nml:,:nmod])**2).mean(axis=0) / np.sqrt(Nsqin[izref]/Nsqin[0]), '--k')\n",
    "#ax4.loglog(lom[:nmod], ((do[-Nml:,:nmod])**2).mean(axis=0) / (do[:Nin,:nmod]**2).mean(axis=0), 'o-k', label=\"Num.\")\n",
    "ax3.yaxis.tick_right()\n",
    "ax3\n",
    "\n",
    "if season == \"winter\": # bottom panel\n",
    "    ax1.set_xlabel(r'$N(z)$ [s$^{-1}$]')\n",
    "    ax2.set_xlabel(r'$u(z,'+\"m={}\".format(imod+1)+')$')\n",
    "    ax3.set_xlabel(r'$c^{-1}$')\n",
    "    ax3.legend(loc=\"best\")\n",
    "ax3.yaxis.set_label_position(\"right\")\n",
    "ax3.set_ylabel(r\"$R$\")    \n",
    "ax3.set_ylim([1e-2, 1e2])\n",
    "\n",
    "for ia,ax in enumerate([ax1, ax2, ax3]):\n",
    "    ax.grid(True)\n",
    "    ax.text(.95, 1.01, axlabs[season][ia], transform=ax.transAxes)\n",
    "    \n",
    "fig.set_tight_layout(True)\n",
    "#fig.suptitle(r\"{0}, d_ML={1:.1f}m, H_bot={2:.1f}m\".format(season, dml, Hbt))\n",
    "\n",
    "if dosavefig:\n",
    "    fig.savefig(dirpic+\"{0}_ratio-vs-k_DAsaro-plus_deep{1}.pdf\".format(season, int(Hbt)), magnification=\"auto\", dpi=200, bbox_inches=\"tight\")"
   ]
  },
  {
   "cell_type": "code",
   "execution_count": 13,
   "metadata": {},
   "outputs": [
    {
     "data": {
      "text/plain": [
       "True"
      ]
     },
     "execution_count": 13,
     "metadata": {},
     "output_type": "execute_result"
    }
   ],
   "source": [
    "dosavefig"
   ]
  },
  {
   "cell_type": "markdown",
   "metadata": {},
   "source": [
    "## Old Stuff"
   ]
  },
  {
   "cell_type": "code",
   "execution_count": 43,
   "metadata": {},
   "outputs": [
    {
     "name": "stdout",
     "output_type": "stream",
     "text": [
      "1 0.961830027294 0.961830027294\n"
     ]
    },
    {
     "name": "stderr",
     "output_type": "stream",
     "text": [
      "/home/lahaye/Coding/virtual_envs/py3-jhub/lib/python3.5/site-packages/ipykernel_launcher.py:11: RuntimeWarning: Mean of empty slice.\n",
      "  # This is added back by InteractiveShellApp.init_path()\n",
      "/home/lahaye/Coding/virtual_envs/py3-jhub/lib/python3.5/site-packages/numpy/core/_methods.py:80: RuntimeWarning: invalid value encountered in double_scalars\n",
      "  ret = ret.dtype.type(ret / rcount)\n"
     ]
    },
    {
     "ename": "IndexError",
     "evalue": "index 0 is out of bounds for axis 0 with size 0",
     "output_type": "error",
     "traceback": [
      "\u001b[0;31m---------------------------------------------------------------------------\u001b[0m",
      "\u001b[0;31mIndexError\u001b[0m                                Traceback (most recent call last)",
      "\u001b[0;32m<ipython-input-43-cc6c2b80ac18>\u001b[0m in \u001b[0;36m<module>\u001b[0;34m()\u001b[0m\n\u001b[1;32m      9\u001b[0m \u001b[0;31m#axs[0].plot(-np.sin(lom[imod]*mwkb)/(Nsqin[0]*Nsqin)**(1./4), zin, \"--k\")\u001b[0m\u001b[0;34m\u001b[0m\u001b[0;34m\u001b[0m\u001b[0m\n\u001b[1;32m     10\u001b[0m \u001b[0maxs\u001b[0m\u001b[0;34m[\u001b[0m\u001b[0;36m0\u001b[0m\u001b[0;34m]\u001b[0m\u001b[0;34m.\u001b[0m\u001b[0mplot\u001b[0m\u001b[0;34m(\u001b[0m\u001b[0;34m-\u001b[0m\u001b[0mkzos\u001b[0m\u001b[0;34m[\u001b[0m\u001b[0mimod\u001b[0m\u001b[0;34m]\u001b[0m\u001b[0;34m*\u001b[0m\u001b[0mw_in\u001b[0m\u001b[0;34m(\u001b[0m\u001b[0mzin\u001b[0m\u001b[0;34m,\u001b[0m \u001b[0mNsqin\u001b[0m\u001b[0;34m,\u001b[0m \u001b[0mkzos\u001b[0m\u001b[0;34m[\u001b[0m\u001b[0mimod\u001b[0m\u001b[0;34m]\u001b[0m\u001b[0;34m)\u001b[0m\u001b[0;34m,\u001b[0m \u001b[0mzin\u001b[0m\u001b[0;34m,\u001b[0m \u001b[0;34m'--k'\u001b[0m\u001b[0;34m)\u001b[0m\u001b[0;34m\u001b[0m\u001b[0m\n\u001b[0;32m---> 11\u001b[0;31m \u001b[0maxs\u001b[0m\u001b[0;34m[\u001b[0m\u001b[0;36m0\u001b[0m\u001b[0;34m]\u001b[0m\u001b[0;34m.\u001b[0m\u001b[0mplot\u001b[0m\u001b[0;34m(\u001b[0m\u001b[0;34m-\u001b[0m\u001b[0mkzos\u001b[0m\u001b[0;34m[\u001b[0m\u001b[0mimod\u001b[0m\u001b[0;34m]\u001b[0m\u001b[0;34m*\u001b[0m\u001b[0mw_ml\u001b[0m\u001b[0;34m(\u001b[0m\u001b[0mzml\u001b[0m\u001b[0;34m,\u001b[0m \u001b[0msym_sqrt\u001b[0m\u001b[0;34m(\u001b[0m\u001b[0mNsqml\u001b[0m\u001b[0;34m.\u001b[0m\u001b[0mmean\u001b[0m\u001b[0;34m(\u001b[0m\u001b[0;34m)\u001b[0m\u001b[0;34m)\u001b[0m\u001b[0;34m,\u001b[0m \u001b[0mkzos\u001b[0m\u001b[0;34m[\u001b[0m\u001b[0mimod\u001b[0m\u001b[0;34m]\u001b[0m\u001b[0;34m)\u001b[0m\u001b[0;34m*\u001b[0m\u001b[0mw_in\u001b[0m\u001b[0;34m(\u001b[0m\u001b[0mzin\u001b[0m\u001b[0;34m,\u001b[0m \u001b[0mNsqin\u001b[0m\u001b[0;34m,\u001b[0m \u001b[0mkzos\u001b[0m\u001b[0;34m[\u001b[0m\u001b[0mimod\u001b[0m\u001b[0;34m]\u001b[0m\u001b[0;34m)\u001b[0m\u001b[0;34m[\u001b[0m\u001b[0;34m-\u001b[0m\u001b[0;36m1\u001b[0m\u001b[0;34m]\u001b[0m\u001b[0;34m,\u001b[0m \u001b[0mzml\u001b[0m\u001b[0;34m,\u001b[0m \u001b[0;34m\"--k\"\u001b[0m\u001b[0;34m)\u001b[0m\u001b[0;34m\u001b[0m\u001b[0m\n\u001b[0m\u001b[1;32m     12\u001b[0m \u001b[0maxs\u001b[0m\u001b[0;34m[\u001b[0m\u001b[0;36m0\u001b[0m\u001b[0;34m]\u001b[0m\u001b[0;34m.\u001b[0m\u001b[0mset_xlabel\u001b[0m\u001b[0;34m(\u001b[0m\u001b[0;34m'w'\u001b[0m\u001b[0;34m)\u001b[0m\u001b[0;34m\u001b[0m\u001b[0m\n\u001b[1;32m     13\u001b[0m \u001b[0maxs\u001b[0m\u001b[0;34m[\u001b[0m\u001b[0;36m0\u001b[0m\u001b[0;34m]\u001b[0m\u001b[0;34m.\u001b[0m\u001b[0mset_ylabel\u001b[0m\u001b[0;34m(\u001b[0m\u001b[0;34m'z'\u001b[0m\u001b[0;34m)\u001b[0m\u001b[0;34m\u001b[0m\u001b[0m\n",
      "\u001b[0;32m~/working_on/SeaSurf_IntWaves/ML_ModeSolve.py\u001b[0m in \u001b[0;36mw_ml\u001b[0;34m(z, Nml, k, dml)\u001b[0m\n\u001b[1;32m    147\u001b[0m     \u001b[0;32mif\u001b[0m \u001b[0mdml\u001b[0m \u001b[0;32mis\u001b[0m \u001b[0;32mNone\u001b[0m\u001b[0;34m:\u001b[0m\u001b[0;34m\u001b[0m\u001b[0m\n\u001b[1;32m    148\u001b[0m         \u001b[0;32mif\u001b[0m \u001b[0misinstance\u001b[0m\u001b[0;34m(\u001b[0m\u001b[0mz\u001b[0m\u001b[0;34m,\u001b[0m \u001b[0mnp\u001b[0m\u001b[0;34m.\u001b[0m\u001b[0mndarray\u001b[0m\u001b[0;34m)\u001b[0m\u001b[0;34m:\u001b[0m\u001b[0;34m\u001b[0m\u001b[0m\n\u001b[0;32m--> 149\u001b[0;31m             \u001b[0mdml\u001b[0m \u001b[0;34m=\u001b[0m \u001b[0mz\u001b[0m\u001b[0;34m[\u001b[0m\u001b[0;36m0\u001b[0m\u001b[0;34m]\u001b[0m\u001b[0;34m\u001b[0m\u001b[0m\n\u001b[0m\u001b[1;32m    150\u001b[0m         \u001b[0;32melse\u001b[0m\u001b[0;34m:\u001b[0m\u001b[0;34m\u001b[0m\u001b[0m\n\u001b[1;32m    151\u001b[0m             \u001b[0mdml\u001b[0m \u001b[0;34m=\u001b[0m \u001b[0;34m-\u001b[0m\u001b[0;36m1\u001b[0m\u001b[0;34m\u001b[0m\u001b[0m\n",
      "\u001b[0;31mIndexError\u001b[0m: index 0 is out of bounds for axis 0 with size 0"
     ]
    },
    {
     "data": {
      "image/png": "[encoded data removed]",
      "text/plain": [
       "<matplotlib.figure.Figure at 0x7fdea6f48128>"
      ]
     },
     "metadata": {},
     "output_type": "display_data"
    }
   ],
   "source": [
    "\n",
    "imod = 1\n",
    "\n",
    "print(imod, lom[imod].real, kzos[imod])\n",
    "\n",
    "fig, axs = plt.subplots(1, 2, sharey=True)\n",
    "axs[0].plot(wo[:,imod], zz, '.-')\n",
    "#axs[0].plot(-np.sin(lom[imod]*mwkb)/(Nsqin[0]*Nsqin)**(1./4), zin, \"--k\")\n",
    "axs[0].plot(-kzos[imod]*w_in(zin, Nsqin, kzos[imod]), zin, '--k')\n",
    "axs[0].plot(-kzos[imod]*w_ml(zml, sym_sqrt(Nsqml.mean()), kzos[imod])*w_in(zin, Nsqin, kzos[imod])[-1], zml, \"--k\")\n",
    "axs[0].set_xlabel('w')\n",
    "axs[0].set_ylabel('z')\n",
    "axs[0].legend(['Num.','WKBJ'])\n",
    "axs[1].plot(do[:,imod], zz, '.') # do = -w'/k\n",
    "#axs[1].plot(np.cos(lom[imod]*mwkb)*(Nsqin/Nsqin[0])**(1./4), zin, \"--k\")\n",
    "axs[1].plot(dwdz_in(zin, Nsqin, kzos[imod]), zin, '--k')\n",
    "axs[1].plot(dwdz_ml(zml, sym_sqrt(Nsqml.mean()), kzos[imod])*w_in(zin, Nsqin, kzos[imod])[-1], zml, '--k')\n",
    "\n",
    "#axs[1].plot(-np.dot(Dz,wo[:,imod])/lom[imod], zz, '--')\n",
    "axs[1].plot(amp[imod]*Nsqin**(1./4), zin, \"--r\")\n",
    "axs[1].plot(-amp[imod]*Nsqin**(1./4), zin, \"--r\")\n",
    "axs[1].set_xlabel(r'$\\phi$')\n",
    "\n",
    "for ax in axs:\n",
    "    ax.grid(True)\n",
    "    ax.ticklabel_format(style='sci',scilimits=(-2,2))\n",
    "#ax.set_ylim([-500, 0])\n"
   ]
  },
  {
   "cell_type": "code",
   "execution_count": 89,
   "metadata": {},
   "outputs": [
    {
     "name": "stderr",
     "output_type": "stream",
     "text": [
      "/home/lahaye/Coding/virtual_envs/py3-jhub/lib/python3.5/site-packages/numpy/core/numeric.py:531: ComplexWarning: Casting complex values to real discards the imaginary part\n",
      "  return array(a, dtype, copy=False, order=order)\n"
     ]
    },
    {
     "data": {
      "text/plain": [
       "[<matplotlib.lines.Line2D at 0x7fce3e3f7b38>]"
      ]
     },
     "execution_count": 89,
     "metadata": {},
     "output_type": "execute_result"
    },
    {
     "data": {
      "image/png": "[encoded data removed]",
      "text/plain": [
       "<matplotlib.figure.Figure at 0x7fce3e0f2c18>"
      ]
     },
     "metadata": {},
     "output_type": "display_data"
    }
   ],
   "source": [
    "plt.figure()\n",
    "ax = plt.gca()\n",
    "ax.loglog(kks, fasa(kks, dml, bvf_int, gred))\n",
    "kapprox = (np.arange(nmod)+1)*np.pi/np.sqrt(bvf_int)/Hbt\n",
    "ax.loglog(kapprox, fasa(kapprox, dml, bvf_int, gred)*Nsqin[izref]/Nsqin[0])\n"
   ]
  },
  {
   "cell_type": "markdown",
   "metadata": {},
   "source": [
    "## Trying stuff"
   ]
  },
  {
   "cell_type": "code",
   "execution_count": 15,
   "metadata": {},
   "outputs": [
    {
     "ename": "KeyError",
     "evalue": "'z'",
     "output_type": "error",
     "traceback": [
      "\u001b[0;31m---------------------------------------------------------------------------\u001b[0m",
      "\u001b[0;31mKeyError\u001b[0m                                  Traceback (most recent call last)",
      "\u001b[0;32m<ipython-input-15-c1302b82b085>\u001b[0m in \u001b[0;36m<module>\u001b[0;34m()\u001b[0m\n\u001b[1;32m      1\u001b[0m \u001b[0mkks\u001b[0m \u001b[0;34m=\u001b[0m \u001b[0mnp\u001b[0m\u001b[0;34m.\u001b[0m\u001b[0mlogspace\u001b[0m\u001b[0;34m(\u001b[0m\u001b[0;34m-\u001b[0m\u001b[0;36m1\u001b[0m\u001b[0;34m,\u001b[0m \u001b[0;36m1\u001b[0m\u001b[0;34m,\u001b[0m \u001b[0;36m100\u001b[0m\u001b[0;34m)\u001b[0m\u001b[0;34m\u001b[0m\u001b[0m\n\u001b[0;32m----> 2\u001b[0;31m \u001b[0mwkbrat\u001b[0m \u001b[0;34m=\u001b[0m \u001b[0mget_WKBampRat\u001b[0m\u001b[0;34m(\u001b[0m\u001b[0mpath_strat\u001b[0m\u001b[0;34m,\u001b[0m \u001b[0mkzos\u001b[0m\u001b[0;34m,\u001b[0m \u001b[0mdml\u001b[0m\u001b[0;34m,\u001b[0m \u001b[0mHbt\u001b[0m\u001b[0;34m,\u001b[0m \u001b[0mzref\u001b[0m\u001b[0;34m,\u001b[0m \u001b[0mzpyc\u001b[0m\u001b[0;34m,\u001b[0m \u001b[0;36m0\u001b[0m\u001b[0;34m,\u001b[0m \u001b[0mgred\u001b[0m\u001b[0;34m)\u001b[0m\u001b[0;34m\u001b[0m\u001b[0m\n\u001b[0m\u001b[1;32m      3\u001b[0m \u001b[0mplt\u001b[0m\u001b[0;34m.\u001b[0m\u001b[0mloglog\u001b[0m\u001b[0;34m(\u001b[0m\u001b[0mkzos\u001b[0m\u001b[0;34m,\u001b[0m \u001b[0mwkbrat\u001b[0m\u001b[0;34m,\u001b[0m \u001b[0;34m\"+k\"\u001b[0m\u001b[0;34m)\u001b[0m\u001b[0;34m\u001b[0m\u001b[0m\n\u001b[1;32m      4\u001b[0m \u001b[0mplt\u001b[0m\u001b[0;34m.\u001b[0m\u001b[0mloglog\u001b[0m\u001b[0;34m(\u001b[0m\u001b[0mkzos\u001b[0m\u001b[0;34m[\u001b[0m\u001b[0;34m:\u001b[0m\u001b[0;34m]\u001b[0m\u001b[0;34m,\u001b[0m \u001b[0mwkb_ratref\u001b[0m\u001b[0;34m[\u001b[0m\u001b[0;34m:\u001b[0m\u001b[0;34m]\u001b[0m\u001b[0;34m,\u001b[0m \u001b[0;34m'xr'\u001b[0m\u001b[0;34m)\u001b[0m\u001b[0;34m\u001b[0m\u001b[0m\n",
      "\u001b[0;32m~/working_on/SeaSurf_IntWaves/ML_ModeSolve.py\u001b[0m in \u001b[0;36mget_WKBampRat\u001b[0;34m(path_strat, kks, dml, Hbt, zref, zpyc, Nsqml, gred)\u001b[0m\n\u001b[1;32m    211\u001b[0m     \u001b[0mzml\u001b[0m \u001b[0;34m=\u001b[0m \u001b[0mnp\u001b[0m\u001b[0;34m.\u001b[0m\u001b[0mlinspace\u001b[0m\u001b[0;34m(\u001b[0m\u001b[0;34m-\u001b[0m\u001b[0mdml\u001b[0m\u001b[0;34m,\u001b[0m \u001b[0;36m0\u001b[0m\u001b[0;34m,\u001b[0m \u001b[0mNzml\u001b[0m\u001b[0;34m)\u001b[0m\u001b[0;34m\u001b[0m\u001b[0m\n\u001b[1;32m    212\u001b[0m     \u001b[0mzin\u001b[0m \u001b[0;34m=\u001b[0m \u001b[0mnp\u001b[0m\u001b[0;34m.\u001b[0m\u001b[0mlinspace\u001b[0m\u001b[0;34m(\u001b[0m\u001b[0;34m-\u001b[0m\u001b[0mHbt\u001b[0m\u001b[0;34m,\u001b[0m \u001b[0;34m-\u001b[0m\u001b[0mdml\u001b[0m\u001b[0;34m,\u001b[0m \u001b[0mNzin\u001b[0m\u001b[0;34m)\u001b[0m\u001b[0;34m\u001b[0m\u001b[0m\n\u001b[0;32m--> 213\u001b[0;31m     \u001b[0mNsqin\u001b[0m\u001b[0;34m,\u001b[0m \u001b[0m_\u001b[0m\u001b[0;34m,\u001b[0m \u001b[0m_\u001b[0m \u001b[0;34m=\u001b[0m \u001b[0mget_strat\u001b[0m\u001b[0;34m(\u001b[0m\u001b[0mpath_strat\u001b[0m\u001b[0;34m,\u001b[0m \u001b[0mzin\u001b[0m\u001b[0;34m,\u001b[0m \u001b[0mzml\u001b[0m\u001b[0;34m,\u001b[0m \u001b[0mdml\u001b[0m\u001b[0;34m,\u001b[0m \u001b[0mzpyc\u001b[0m\u001b[0;34m,\u001b[0m \u001b[0mNsqml\u001b[0m\u001b[0;34m,\u001b[0m \u001b[0mcoef_realstrat\u001b[0m\u001b[0;34m=\u001b[0m\u001b[0;36m1.\u001b[0m\u001b[0;34m)\u001b[0m\u001b[0;34m\u001b[0m\u001b[0m\n\u001b[0m\u001b[1;32m    214\u001b[0m     \u001b[0mNsqref\u001b[0m \u001b[0;34m=\u001b[0m \u001b[0mitp\u001b[0m\u001b[0;34m.\u001b[0m\u001b[0minterp1d\u001b[0m\u001b[0;34m(\u001b[0m\u001b[0mzin\u001b[0m\u001b[0;34m,\u001b[0m \u001b[0mNsqin\u001b[0m\u001b[0;34m)\u001b[0m\u001b[0;34m(\u001b[0m\u001b[0mzref\u001b[0m\u001b[0;34m)\u001b[0m\u001b[0;34m\u001b[0m\u001b[0m\n\u001b[1;32m    215\u001b[0m     \u001b[0mkzos\u001b[0m \u001b[0;34m=\u001b[0m \u001b[0mnp\u001b[0m\u001b[0;34m.\u001b[0m\u001b[0mzeros\u001b[0m\u001b[0;34m(\u001b[0m\u001b[0mkks\u001b[0m\u001b[0;34m.\u001b[0m\u001b[0mshape\u001b[0m\u001b[0;34m)\u001b[0m\u001b[0;34m\u001b[0m\u001b[0m\n",
      "\u001b[0;32m~/working_on/SeaSurf_IntWaves/ML_ModeSolve.py\u001b[0m in \u001b[0;36mget_strat\u001b[0;34m(path_strat, zin, zml, dml, zpyc, Hbt, Nsqml, coef_realstrat, coord)\u001b[0m\n\u001b[1;32m     27\u001b[0m     \u001b[0mncvar\u001b[0m \u001b[0;34m=\u001b[0m \u001b[0mnc\u001b[0m\u001b[0;34m.\u001b[0m\u001b[0mvariables\u001b[0m\u001b[0;34m\u001b[0m\u001b[0m\n\u001b[1;32m     28\u001b[0m     \u001b[0;32mif\u001b[0m \u001b[0mcoord\u001b[0m \u001b[0;32mis\u001b[0m \u001b[0;32mNone\u001b[0m\u001b[0;34m:\u001b[0m\u001b[0;34m\u001b[0m\u001b[0m\n\u001b[0;32m---> 29\u001b[0;31m         \u001b[0mzinterp\u001b[0m \u001b[0;34m=\u001b[0m \u001b[0mncvar\u001b[0m\u001b[0;34m[\u001b[0m\u001b[0;34m'z'\u001b[0m\u001b[0;34m]\u001b[0m\u001b[0;34m[\u001b[0m\u001b[0;34m:\u001b[0m\u001b[0;34m]\u001b[0m\u001b[0;34m\u001b[0m\u001b[0m\n\u001b[0m\u001b[1;32m     30\u001b[0m         \u001b[0mbvfm\u001b[0m \u001b[0;34m=\u001b[0m \u001b[0mncvar\u001b[0m\u001b[0;34m[\u001b[0m\u001b[0;34m'bvf'\u001b[0m\u001b[0;34m]\u001b[0m\u001b[0;34m[\u001b[0m\u001b[0;34m:\u001b[0m\u001b[0;34m]\u001b[0m\u001b[0;34m\u001b[0m\u001b[0m\n\u001b[1;32m     31\u001b[0m     \u001b[0;32melse\u001b[0m\u001b[0;34m:\u001b[0m\u001b[0;34m\u001b[0m\u001b[0m\n",
      "\u001b[0;31mKeyError\u001b[0m: 'z'"
     ]
    }
   ],
   "source": [
    "kks = np.logspace(-1, 1, 100)\n",
    "wkbrat = get_WKBampRat(path_strat, kzos, dml, Hbt, zref, zpyc, 0, gred)\n",
    "plt.loglog(kzos, wkbrat, \"+k\")\n",
    "plt.loglog(kzos[:], wkb_ratref[:], 'xr')"
   ]
  },
  {
   "cell_type": "code",
   "execution_count": 7,
   "metadata": {},
   "outputs": [
    {
     "data": {
      "text/plain": [
       "3000"
      ]
     },
     "execution_count": 7,
     "metadata": {},
     "output_type": "execute_result"
    }
   ],
   "source": [
    "Hbt"
   ]
  },
  {
   "cell_type": "code",
   "execution_count": 7,
   "metadata": {},
   "outputs": [
    {
     "name": "stdout",
     "output_type": "stream",
     "text": [
      "/data0/project/vortex/lahaye/DIAG/luckym2s_bvf_moy.nc 120 3000 20 0.02 -500 -200 [  1.00000000e-05   1.00000000e-05   1.00000000e-05   1.00000000e-05\n",
      "   1.00000000e-05   1.00000000e-05   1.00000000e-05   1.00000000e-05\n",
      "   1.00000000e-05   1.00000000e-05   1.00000000e-05   1.00000000e-05] 1.0\n"
     ]
    },
    {
     "name": "stderr",
     "output_type": "stream",
     "text": [
      "/home/lahaye/Coding/virtual_envs/py3-jhub/lib/python3.5/site-packages/numpy/core/numeric.py:531: ComplexWarning: Casting complex values to real discards the imaginary part\n",
      "  return array(a, dtype, copy=False, order=order)\n"
     ]
    },
    {
     "data": {
      "text/plain": [
       "[<matplotlib.lines.Line2D at 0x7fde60673f28>]"
      ]
     },
     "execution_count": 7,
     "metadata": {},
     "output_type": "execute_result"
    },
    {
     "data": {
      "image/png": "[encoded data removed]",
      "text/plain": [
       "<matplotlib.figure.Figure at 0x7fde606289e8>"
      ]
     },
     "metadata": {},
     "output_type": "display_data"
    }
   ],
   "source": [
    "nmod = 20\n",
    "print(path_strat, Nz, Hbt, dml, gred, zref, zpyc, Nsqml, coef_restrat)\n",
    "lam, rats = get_ModAmpRat(path_strat, Hbt, dml, gred, zref, zpyc, Nsqml, coef_restrat)\n",
    "\n",
    "plt.loglog(lom[:nmod], ((do[-Nml:,:nmod])**2).mean(axis=0) / np.sqrt(Nsqin[izref]/Nsqin[0]), '+k')\n",
    "plt.loglog(lam, rats, 'x-')"
   ]
  },
  {
   "cell_type": "markdown",
   "metadata": {},
   "source": [
    "## Old stuff\n",
    "although correct "
   ]
  },
  {
   "cell_type": "code",
   "execution_count": 218,
   "metadata": {},
   "outputs": [],
   "source": [
    "# old version, piecewise constant stratification (N=0 in ML), non-hydro\n",
    "\n",
    "om = 2*np.pi/(2*3600)\n",
    "Ni = 3*2*np.pi/3600.\n",
    "delrho = 1e-3 #0. #\n",
    "dml = 20\n",
    "Hbt = 2000\n",
    "\n",
    "Nz = 80\n",
    "\n",
    "Nml = max(int(Nz*dml/Hbt), int(Nz/10))\n",
    "Nin = Nz - Nml\n",
    "\n",
    "grav = 9.81\n",
    "gred = grav*delrho\n",
    "fcor = 1e-5\n",
    "mu = 1./np.sqrt(1-fcor**2/om**2)\n",
    "al = np.sqrt((Ni**2-om**2)/(om**2-fcor**2))\n",
    "\n",
    "Nmod = int(Nz/3)\n",
    "\n",
    "Dml, zml = cheb(Nml, [-dml, 0])\n",
    "Din, zin = cheb(Nin, [-Hbt, -dml])\n",
    "zz = np.r_[zin, zml]\n",
    "Dz = np.zeros((Nz,Nz))\n",
    "Dz[:Nin,:Nin] = Din\n",
    "Dz[Nin:,Nin:] = Dml\n",
    "\n",
    "alm2 = 1./al**2 # WARNING this will change for non constant stratification\n",
    "mum2 = 1./mu**2\n",
    "\n",
    "Lin = np.r_[ np.c_[ np.diag(np.ones(Nin)), -Din ] \\\n",
    "           , np.c_[ -alm2*Din,              np.zeros((Nin,Nin)) ] ]\n",
    "Lml = np.r_[ np.c_[ np.diag(np.ones(Nml)), -Dml ] \\\n",
    "           , np.c_[ mum2*Dml,              np.zeros((Nml,Nml)) ] ]\n",
    "\n",
    "LL = np.zeros((2*Nz,2*Nz))\n",
    "LL[:2*Nin,:2*Nin] = Lin\n",
    "LL[2*Nin:,2*Nin:] = Lml\n",
    "\n",
    "AA = np.diag(np.r_[np.zeros(Nin), np.ones(Nin), np.zeros(Nml), np.ones(Nml)])\n",
    "\n",
    "# B.C.\n",
    "# w = 0 at z=-Hb, 0\n",
    "LL[Nin,:] = np.r_[ np.zeros(Nin), 1, np.zeros(Nin-1+2*Nml) ]\n",
    "LL[-1,:] = np.r_[ np.zeros(2*Nz-1), 1 ]\n",
    "AA[Nin,Nin] = AA[-1,-1] = 0\n",
    "\n",
    "LL[2*Nin-1,:] = np.r_[ np.zeros(2*Nin-1), 1, np.zeros(Nml), -1, np.zeros(Nml-1) ]\n",
    "AA[2*Nin-1,2*Nin-1] = 0\n",
    "LL[2*Nin+Nml,:] = np.r_[ np.zeros(Nin-1), 1, np.zeros(Nin), -1, np.zeros(2*Nml-1) ]\n",
    "AA[2*Nin+Nml,2*Nin+Nml] = gred/(om**2-fcor**2)\n",
    "\n",
    "lam, vect = eig(LL, AA)\n",
    "lom = lam.copy()\n",
    "# clean that shit\n",
    "inds, = np.where( (np.isfinite(lam)) & (abs(lam.real)<1e3) & (abs(lam.imag)<1e-6) & (lam.real>0) )\n",
    "lam, vect = lam[inds], vect[:,inds]\n",
    "inds = lam.real.argsort()[:2*Nmod]\n",
    "vect = vect[:,inds]\n",
    "\n",
    "lam = lam[inds]\n",
    "ww = np.r_[vect[Nin:2*Nin,:], vect[-Nml:,:]]\n",
    "dw = np.r_[vect[:Nin,:], vect[2*Nin:2*Nin+Nml,:]]"
   ]
  },
  {
   "cell_type": "code",
   "execution_count": 48,
   "metadata": {},
   "outputs": [
    {
     "data": {
      "text/plain": [
       "<matplotlib.text.Text at 0x7f86d155dd30>"
      ]
     },
     "execution_count": 48,
     "metadata": {},
     "output_type": "execute_result"
    },
    {
     "data": {
      "image/png": "[encoded data removed]",
      "text/plain": [
       "<matplotlib.figure.Figure at 0x7f86e6c16ac8>"
      ]
     },
     "metadata": {},
     "output_type": "display_data"
    }
   ],
   "source": [
    "imod = 2\n",
    "\n",
    "fig, axs = plt.subplots(1, 2, sharey=True)\n",
    "axs[0].plot(ww[:,imod], zz, '.-')\n",
    "axs[0].set_xlabel('w')\n",
    "axs[0].set_ylabel('z')\n",
    "axs[1].plot(dw[:,imod], zz, '.-')\n",
    "axs[1].plot(np.dot(Dz,ww[:,imod]), zz, '--')\n",
    "axs[1].set_xlabel('dw/dz')\n",
    "\n",
    "for ax in axs:\n",
    "    ax.grid(True)\n",
    "    ax.ticklabel_format(style='sci',scilimits=(-2,2))\n",
    "fig.suptitle('mode {0:01d} -- k={1:.2e}'.format(imod,np.sqrt(lam[imod])))"
   ]
  },
  {
   "cell_type": "markdown",
   "metadata": {},
   "source": [
    "## Old Stuff"
   ]
  },
  {
   "cell_type": "code",
   "execution_count": null,
   "metadata": {},
   "outputs": [],
   "source": [
    "def cheb(N, inter=None):\n",
    "    N -= 1\n",
    "\n",
    "    if N==0:\n",
    "        return None\n",
    "    xx = np.cos(np.pi*np.arange(N+1)/N)\n",
    "    cc = np.r_[2, np.ones(N-1), 2]*(-1)**np.arange(N+1)\n",
    "    X = np.tile(xx[:,None], (1, N+1))\n",
    "    dX = X - X.T\n",
    "    D = (cc[:,None]/cc[None,:])/(dX + np.diag(np.ones(N+1)))\n",
    "    D = D - np.diag(D.sum(axis=1))\n",
    "\n",
    "    if not inter is None:\n",
    "        L = inter[1] - inter[0]\n",
    "        D = -D*2/L\n",
    "        xx = (xx[::-1] + 1) * L/2. + inter[0]\n",
    "    return D, xx\n",
    "\n",
    "\n",
    "\n",
    "def ML_solver(zin, Din, Nsqin, zml, Dml, Nsqml, gred):\n",
    "    Nin = len(zin)\n",
    "    Nml = len(zml)\n",
    "    nmod = ((Nin+Nml)//4)\n",
    "    Lin = np.r_[ np.c_[ np.zeros((Nin,Nin)),     -Din ] \\\n",
    "                , np.c_[ Din,              np.zeros((Nin,Nin)) ] ]\n",
    "    Lml = np.r_[ np.c_[ np.zeros((Nml,Nml)),    -Dml ] \\\n",
    "               , np.c_[ Dml,              np.zeros((Nml,Nml)) ] ]\n",
    "\n",
    "    LL = np.zeros((2*Nz,2*Nz))\n",
    "    LL[:2*Nin,:2*Nin] = Lin\n",
    "    LL[2*Nin:,2*Nin:] = Lml\n",
    "\n",
    "    AA = np.diag(np.r_[np.ones(Nin), Nsqin, np.ones(Nml), Nsqml])\n",
    "\n",
    "    # B.C.\n",
    "    # w = 0 at z=-Hb, 0\n",
    "    LL[Nin,:] = np.r_[ np.zeros(Nin), 1, np.zeros(Nin-1+2*Nml) ]\n",
    "    LL[-1,:] = np.r_[ np.zeros(2*Nz-1), 1 ]\n",
    "    AA[Nin,Nin] = AA[-1,-1] = 0\n",
    "    # continuity of w\n",
    "    LL[2*Nin-1,:] = np.r_[ np.zeros(2*Nin-1), 1, np.zeros(Nml), -1, np.zeros(Nml-1) ]\n",
    "    AA[2*Nin-1,2*Nin-1] = 0\n",
    "    # jump in dw/dz\n",
    "    LL[2*Nin+Nml,:] = np.r_[ np.zeros(Nin-1), 1, np.zeros(Nin), -1, np.zeros(2*Nml-1) ]\n",
    "    AA[2*Nin+Nml,2*Nin+Nml] = -gred\n",
    "\n",
    "    lam, vect = eig(LL, AA)\n",
    "    lom = lam.copy()\n",
    "    # clean that shit\n",
    "    inds, = np.where( (np.isfinite(lam)) & (abs(lam.real)<1e3) & (abs(lam.imag)<1e-6) & (lam.real>1e-10) )\n",
    "    lam, vect = lam[inds], vect[:,inds]\n",
    "    inds = lam.real.argsort()[:2*nmod]\n",
    "    vect = vect[:,inds]\n",
    "\n",
    "    lam = lam[inds]\n",
    "    ww = np.r_[vect[Nin:2*Nin,:], vect[-Nml:,:]]\n",
    "    dw = np.r_[vect[:Nin,:], vect[2*Nin:2*Nin+Nml,:]]\n",
    "    \n",
    "    return lam, ww, dw\n",
    "\n",
    "def fasa(kks, dml, Nsqin, gred):\n",
    "    return 1./(Nsqin*kks**2*dml**2 + (1-kks**2*gred*dml)**2)"
   ]
  },
  {
   "cell_type": "code",
   "execution_count": 3,
   "metadata": {},
   "outputs": [],
   "source": [
    "# WKBJ functions: not that these are actual w, dw/dz (i.e. does not match wo, do)\n",
    "\n",
    "def w_ml(z, Nml=0, k=None, dml=None):\n",
    "    \"\"\" z[-1] = 0 // normalized such that w_ml(-dml)=1  ; Nml constant only\"\"\"\n",
    "    if dml is None:\n",
    "        if isinstance(z, np.ndarray): \n",
    "            dml = z[0]\n",
    "        else:\n",
    "            dml = -1\n",
    "    if np.isclose(Nml, 0):\n",
    "        return z/dml\n",
    "    elif Nml > 0:\n",
    "        return np.sin(k*Nml*z)/np.sin(k*Nml*dml)\n",
    "    elif Nml < 0:\n",
    "        return np.sinh(k*Nml*z)/np.sinh(k*Nml*dml)\n",
    "    \n",
    "def dwdz_ml(z, Nml=0, k=None, dml=None):\n",
    "    \"\"\" z[-1] = 0 // normalized such that w_ml(-dml)=0 ; \n",
    "        Nml constant only\"\"\"\n",
    "    if dml is None:\n",
    "        if isinstance(z, np.ndarray): \n",
    "            dml = z[0]\n",
    "        else:\n",
    "            dml = -1.\n",
    "    if not isinstance(z, np.ndarray): z = np.array([z])\n",
    "    if isinstance(k, np.ndarray) and k.ndim == 1:\n",
    "        k = k[None,:]\n",
    "        shapout = (len(z),len(k))\n",
    "    else: shapout = z.shape\n",
    "    if np.isclose(Nml, 0):\n",
    "        return np.ones(shapout)/dml\n",
    "    elif Nml > 0:\n",
    "        return k * Nml * np.cos(k*Nml*z[:,none])/np.sin(k*Nml*dml)\n",
    "    elif Nml < 0:\n",
    "        return np.cosh(k*Nml*z[:,None])/np.sinh(k*Nml*dml)\n",
    "    \n",
    "def w_in(zin, Nsqin, k):\n",
    "    if zin.shape != Nsqin.shape: zin = zin.reshape(Nsqin.shape) #raise ValueError(\"something wrong\")\n",
    "    mwkb = itg.cumtrapz(np.sqrt(Nsqin), zin, initial=0)\n",
    "    if isinstance(k, np.ndarray) and k.ndim == 1:\n",
    "        k = k[None,:]\n",
    "    return np.sin(k*mwkb[:,None])/(Nsqin[0]*Nsqin[:,None])**(1./4)/k\n",
    "\n",
    "def dwdz_in(zin, Nsqin, k):\n",
    "    if zin.shape != Nsqin.shape: raise ValueError(\"something wrong\")\n",
    "    mwkb = itg.cumtrapz(np.sqrt(Nsqin), zin, initial=0)\n",
    "    if isinstance(k, np.ndarray) and k.ndim == 1:\n",
    "        k = k[None,:]\n",
    "    return np.cos(k*mwkb[:,None])*(Nsqin[:,None]/Nsqin[0])**(1./4)\n",
    "\n",
    "def tr_ek(k, Nml, Nsqin, gred):\n",
    "    if not isinstance(k, np.ndarray): k = np.array([k])\n",
    "    wml = w_in(zin, Nsqin, k[None,:])[-1,:]\n",
    "    dwml = dwdz_ml(-dml, Nml, k[None,:], dml=-dml) * wml\n",
    "    return (dwml - dwdz_in(zin, Nsqin, k[None,:])[-1,:])/k + gred*wml*k\n"
   ]
  },
  {
   "cell_type": "code",
   "execution_count": 46,
   "metadata": {},
   "outputs": [],
   "source": [
    "def sym_sqrt(data):\n",
    "    return np.sign(data)*np.sqrt(abs(data))\n",
    "\n",
    "def get_ModAmpRat(path_strat, Nz, Hbt, dml, gred, zref, zpyc, Nsqml, coef_realstrat):\n",
    "    \"\"\" Big Wrapper\"\"\"\n",
    "    zin, Din, zml, Dml, zz, Dz = ML_solver_grid(Nz, Hbt, dml)\n",
    "    Nsqin, Nsqml, bvf_int = get_strat(path_strat, zin, zml, dml, zpyc, Nsqml, coef_realstrat=1.)   \n",
    "    izref = abs(zref-zin).argmin()\n",
    "    Nin, Nml = len(zin), len(zml)\n",
    "\n",
    "    # solve eigenproblem\n",
    "    lom, wo, do = ML_solver(zin, Din, Nsqin, zml, Dml, Nsqml, gred)\n",
    "    # normalize\n",
    "    amp = np.sqrt(wo[:Nin,:]**2*np.sqrt(Nsqin)[:,None] \\\n",
    "              + (do[:Nin,:]**2/np.sqrt(Nsqin)[:,None])).mean(axis=0)\n",
    "    wo /= do[:1,:]\n",
    "    amp /= do[0,:]\n",
    "    do /= do[:1,:]\n",
    "    \n",
    "    ratio = ((do[-Nml:,:])**2).mean(axis=0) / np.sqrt(Nsqin[izref]/Nsqin[0])\n",
    "    return (lom, ratio)\n",
    "                                                      \n",
    "def get_WKBampRat(kks, dml, Hbt, zref, zpyc, Nsqml, gred, path_strat): # TODO\n",
    "    \"\"\" amplitude ratio from WKBJ estimate\n",
    "    kks: np.ndarray 1D,  is initial guess for every eigenvalues (typically use results from EVP)\n",
    "    dml, Hbt: depth of ML, depth of fluid (positive) \n",
    "    zref, zpyc: rerference depth (negative) and pycnocline depth (negative)\n",
    "    Nsqml, gred: BVF in mixed layer (e.g. 0.) and buoyancy gap at bottom of ML\n",
    "    path_strat: where to read strat.\n",
    "    \"\"\"\n",
    "    Nz = 120\n",
    "    Nzml = min(round(dml/Hbt*Nz), 10)\n",
    "    Nzin = Nz - Nzml\n",
    "    zml = np.linspace(-dml, 0, Nzml)\n",
    "    zin = np.linspace(-Hbt, -dml, Nzin)\n",
    "    Nsqin, Nsqml, _ = get_strat(path_strat, zin, zml, dml, zpyc, Nsqml, coef_realstrat=1.)\n",
    "    Nsqref = itp.interp1d(zin, Nsqin)(zref)\n",
    "    kzos = np.zeros(lom.shape)\n",
    "    ff = lambda k:tr_ek(k, sym_sqrt(Nsqml), zin, Nsqin, gred).squeeze()\n",
    "    for ii,ll in enumerate(kks.real):\n",
    "        kzos[ii] = opt.fsolve(ff, ll)[0]\n",
    "    wkb_ratref = ((dwdz_ml(zml, sym_sqrt(Nsqml.mean()), kzos) \\\n",
    "           * w_in(zin, Nsqin, kzos)[-1,:])**2).mean(axis=0) / np.sqrt(Nsqref/Nsqin[0])\n",
    "    return wkb_ratref"
   ]
  },
  {
   "cell_type": "code",
   "execution_count": null,
   "metadata": {},
   "outputs": [],
   "source": []
  }
 ],
 "metadata": {
  "kernelspec": {
   "display_name": "Py3 Jhub",
   "language": "python",
   "name": "py3-jhub"
  },
  "language_info": {
   "codemirror_mode": {
    "name": "ipython",
    "version": 3
   },
   "file_extension": ".py",
   "mimetype": "text/x-python",
   "name": "python",
   "nbconvert_exporter": "python",
   "pygments_lexer": "ipython3",
   "version": "3.5.2"
  }
 },
 "nbformat": 4,
 "nbformat_minor": 2
}
